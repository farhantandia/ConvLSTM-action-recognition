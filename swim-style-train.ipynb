{
 "cells": [
  {
   "cell_type": "code",
   "execution_count": 1,
   "metadata": {},
   "outputs": [],
   "source": [
    "import tensorflow\n",
    "from tensorflow.keras.preprocessing.image import ImageDataGenerator\n",
    "from tensorflow.keras import optimizers\n",
    "from tensorflow.keras.models import Sequential, Model \n",
    "from tensorflow.keras.layers import *\n",
    "from tensorflow.keras.callbacks import ModelCheckpoint, LearningRateScheduler, TensorBoard, EarlyStopping\n",
    "import os\n",
    "import cv2\n",
    "import numpy as np\n",
    "from sklearn.model_selection import train_test_split\n",
    "from sklearn import metrics \n",
    "from sklearn.metrics import accuracy_score\n",
    "from sklearn.metrics import precision_score\n",
    "from sklearn.metrics import recall_score\n",
    "from sklearn.metrics import f1_score\n",
    "from sklearn.metrics import cohen_kappa_score\n",
    "from sklearn.metrics import roc_auc_score\n",
    "from sklearn.metrics import multilabel_confusion_matrix\n",
    "from sklearn.metrics import classification_report\n",
    "from keras_video import VideoFrameGenerator\n",
    "import glob"
   ]
  },
  {
   "cell_type": "code",
   "execution_count": 2,
   "metadata": {},
   "outputs": [
    {
     "data": {
      "text/plain": [
       "'2.3.0'"
      ]
     },
     "execution_count": 2,
     "metadata": {},
     "output_type": "execute_result"
    }
   ],
   "source": [
    "import tensorflow as tf\n",
    "tf.__version__"
   ]
  },
  {
   "cell_type": "code",
   "execution_count": 15,
   "metadata": {},
   "outputs": [
    {
     "name": "stderr",
     "output_type": "stream",
     "text": [
      "Warning, `split` argument is replaced by `split_val`, please condider to change your source code.The `split` argument will be removed in future releases.\n"
     ]
    },
    {
     "name": "stdout",
     "output_type": "stream",
     "text": [
      "class Backstroke, validation count: 8, train count: 32\n",
      "class Breaststroke, validation count: 9, train count: 36\n",
      "class Freestyle, validation count: 8, train count: 32\n",
      "Total data: 3 classes for 100 files for train\n"
     ]
    }
   ],
   "source": [
    "# use sub directories names as classes\n",
    "classes = [i.split(os.path.sep)[1] for i in glob.glob('project_data/*')]\n",
    "classes.sort()\n",
    "# some global params\n",
    "SIZE = (64, 64)\n",
    "CHANNELS = 3\n",
    "NBFRAME = 50\n",
    "BS = 2\n",
    "# pattern to get videos and classes\n",
    "glob_pattern='project_data/{classname}/*.avi'\n",
    "# for data augmentation\n",
    "data_aug = ImageDataGenerator(\n",
    "    zoom_range=1.5,\n",
    "#     horizontal_flip=True,\n",
    "#     rotation_range=8,\n",
    "    width_shift_range=.2,\n",
    "    height_shift_range=.2)\n",
    "# Create video frame generator\n",
    "train = VideoFrameGenerator(\n",
    "    classes=classes, \n",
    "    glob_pattern=glob_pattern,\n",
    "    nb_frames=NBFRAME,\n",
    "    split=.2, \n",
    "    shuffle=True,\n",
    "    batch_size=BS,\n",
    "    target_shape=SIZE,\n",
    "    nb_channel=CHANNELS,\n",
    "    transformation=data_aug,\n",
    "    use_frame_cache=True)"
   ]
  },
  {
   "cell_type": "code",
   "execution_count": 16,
   "metadata": {},
   "outputs": [
    {
     "name": "stdout",
     "output_type": "stream",
     "text": [
      "Total data: 3 classes for 25 files for validation\n"
     ]
    }
   ],
   "source": [
    "valid = train.get_validation_generator()"
   ]
  },
  {
   "cell_type": "code",
   "execution_count": 5,
   "metadata": {},
   "outputs": [
    {
     "data": {
      "text/plain": [
       "<keras_video.generator.VideoFrameGenerator at 0x230cb155390>"
      ]
     },
     "execution_count": 5,
     "metadata": {},
     "output_type": "execute_result"
    }
   ],
   "source": [
    "train"
   ]
  },
  {
   "cell_type": "code",
   "execution_count": 6,
   "metadata": {},
   "outputs": [],
   "source": [
    "\n",
    "x_train, y_train = next(train)\n",
    "x_test, y_test = next(valid)"
   ]
  },
  {
   "cell_type": "code",
   "execution_count": 8,
   "metadata": {},
   "outputs": [
    {
     "data": {
      "text/plain": [
       "(1, 10, 64, 64, 3)"
      ]
     },
     "execution_count": 8,
     "metadata": {},
     "output_type": "execute_result"
    }
   ],
   "source": [
    "x_train.shape"
   ]
  },
  {
   "cell_type": "code",
   "execution_count": null,
   "metadata": {},
   "outputs": [],
   "source": []
  },
  {
   "cell_type": "code",
   "execution_count": 2,
   "metadata": {},
   "outputs": [
    {
     "name": "stdout",
     "output_type": "stream",
     "text": [
      "Backstroke\n",
      "Breaststroke\n",
      "Freestyle\n"
     ]
    }
   ],
   "source": [
    "data_dir = \"project_data\"\n",
    "img_height , img_width = 100, 64\n",
    "seq_len = 60\n",
    " \n",
    "classes = [\"Backstroke\", \"Breaststroke\", \"Freestyle\"]\n",
    " \n",
    "#  Creating frames from videos\n",
    "def frames_extraction(video_path):\n",
    "    frames_list = []\n",
    "     \n",
    "    vidObj = cv2.VideoCapture(video_path)\n",
    "    # Used as counter variable \n",
    "    count = 1\n",
    " \n",
    "    while count <= seq_len: \n",
    "         \n",
    "        success, image = vidObj.read() \n",
    "        if success:\n",
    "            image = cv2.resize(image, (img_height, img_width))\n",
    "            frames_list.append(image)\n",
    "            count += 1\n",
    "        else:\n",
    "            print(\"Defected frame\")\n",
    "            break\n",
    " \n",
    "            \n",
    "    return frames_list\n",
    " \n",
    "def create_data(input_dir):\n",
    "    X = []\n",
    "    Y = []\n",
    "     \n",
    "    classes_list = os.listdir(input_dir)\n",
    "     \n",
    "    for c in classes_list:\n",
    "        print(c)\n",
    "        files_list = os.listdir(os.path.join(input_dir, c))\n",
    "        for f in files_list:\n",
    "            frames = frames_extraction(os.path.join(os.path.join(input_dir, c), f))\n",
    "            if len(frames) == seq_len:\n",
    "                X.append(frames)\n",
    "             \n",
    "                y = [0]*len(classes)\n",
    "                y[classes.index(c)] = 1\n",
    "                Y.append(y)\n",
    "     \n",
    "    X = np.asarray(X)\n",
    "    Y = np.asarray(Y)\n",
    "    return X, Y\n",
    " \n",
    "X, Y = create_data(data_dir)"
   ]
  },
  {
   "cell_type": "code",
   "execution_count": 3,
   "metadata": {},
   "outputs": [
    {
     "data": {
      "text/plain": [
       "(125, 60, 64, 100, 3)"
      ]
     },
     "execution_count": 3,
     "metadata": {},
     "output_type": "execute_result"
    }
   ],
   "source": [
    "X.shape"
   ]
  },
  {
   "cell_type": "code",
   "execution_count": null,
   "metadata": {},
   "outputs": [],
   "source": []
  },
  {
   "cell_type": "code",
   "execution_count": 5,
   "metadata": {
    "scrolled": false
   },
   "outputs": [
    {
     "name": "stdout",
     "output_type": "stream",
     "text": [
      "Model: \"sequential_1\"\n",
      "_________________________________________________________________\n",
      "Layer (type)                 Output Shape              Param #   \n",
      "=================================================================\n",
      "conv_lst_m2d_2 (ConvLSTM2D)  (None, 60, 64, 100, 64)   154624    \n",
      "_________________________________________________________________\n",
      "dropout_3 (Dropout)          (None, 60, 64, 100, 64)   0         \n",
      "_________________________________________________________________\n",
      "conv_lst_m2d_3 (ConvLSTM2D)  (None, 62, 98, 32)        110720    \n",
      "_________________________________________________________________\n",
      "dropout_4 (Dropout)          (None, 62, 98, 32)        0         \n",
      "_________________________________________________________________\n",
      "flatten_1 (Flatten)          (None, 194432)            0         \n",
      "_________________________________________________________________\n",
      "dense_2 (Dense)              (None, 128)               24887424  \n",
      "_________________________________________________________________\n",
      "dropout_5 (Dropout)          (None, 128)               0         \n",
      "_________________________________________________________________\n",
      "dense_3 (Dense)              (None, 3)                 387       \n",
      "=================================================================\n",
      "Total params: 25,153,155\n",
      "Trainable params: 25,153,155\n",
      "Non-trainable params: 0\n",
      "_________________________________________________________________\n",
      "Epoch 1/400\n",
      "100/100 [==============================] - ETA: 0s - loss: 0.8289 - accuracy: 0.5700\n",
      "Epoch 00001: val_loss improved from inf to 0.26727, saving model to best_model_convlstm_fix.h5\n",
      "100/100 [==============================] - 40s 396ms/step - loss: 0.8289 - accuracy: 0.5700 - val_loss: 0.2673 - val_accuracy: 0.9200\n",
      "Epoch 2/400\n",
      "100/100 [==============================] - ETA: 0s - loss: 0.1887 - accuracy: 0.9700\n",
      "Epoch 00002: val_loss improved from 0.26727 to 0.05574, saving model to best_model_convlstm_fix.h5\n",
      "100/100 [==============================] - 39s 393ms/step - loss: 0.1887 - accuracy: 0.9700 - val_loss: 0.0557 - val_accuracy: 1.0000\n",
      "Epoch 3/400\n",
      "100/100 [==============================] - ETA: 0s - loss: 0.0590 - accuracy: 0.9900\n",
      "Epoch 00003: val_loss improved from 0.05574 to 0.04697, saving model to best_model_convlstm_fix.h5\n",
      "100/100 [==============================] - 40s 396ms/step - loss: 0.0590 - accuracy: 0.9900 - val_loss: 0.0470 - val_accuracy: 0.9600\n",
      "Epoch 4/400\n",
      "100/100 [==============================] - ETA: 0s - loss: 0.0194 - accuracy: 1.0000\n",
      "Epoch 00004: val_loss improved from 0.04697 to 0.02154, saving model to best_model_convlstm_fix.h5\n",
      "100/100 [==============================] - 40s 399ms/step - loss: 0.0194 - accuracy: 1.0000 - val_loss: 0.0215 - val_accuracy: 1.0000\n",
      "Epoch 5/400\n",
      "100/100 [==============================] - ETA: 0s - loss: 0.0204 - accuracy: 1.0000\n",
      "Epoch 00005: val_loss improved from 0.02154 to 0.01044, saving model to best_model_convlstm_fix.h5\n",
      "100/100 [==============================] - 39s 387ms/step - loss: 0.0204 - accuracy: 1.0000 - val_loss: 0.0104 - val_accuracy: 1.0000\n",
      "Epoch 6/400\n",
      "100/100 [==============================] - ETA: 0s - loss: 0.0093 - accuracy: 1.0000\n",
      "Epoch 00006: val_loss did not improve from 0.01044\n",
      "100/100 [==============================] - 39s 389ms/step - loss: 0.0093 - accuracy: 1.0000 - val_loss: 0.0108 - val_accuracy: 1.0000\n",
      "Epoch 7/400\n",
      "100/100 [==============================] - ETA: 0s - loss: 0.0083 - accuracy: 1.0000\n",
      "Epoch 00007: val_loss did not improve from 0.01044\n",
      "100/100 [==============================] - 39s 392ms/step - loss: 0.0083 - accuracy: 1.0000 - val_loss: 0.0392 - val_accuracy: 0.9600\n",
      "Epoch 8/400\n",
      "100/100 [==============================] - ETA: 0s - loss: 0.0034 - accuracy: 1.0000\n",
      "Epoch 00008: val_loss improved from 0.01044 to 0.00610, saving model to best_model_convlstm_fix.h5\n",
      "100/100 [==============================] - 40s 396ms/step - loss: 0.0034 - accuracy: 1.0000 - val_loss: 0.0061 - val_accuracy: 1.0000\n",
      "Epoch 9/400\n",
      "100/100 [==============================] - ETA: 0s - loss: 0.0019 - accuracy: 1.0000\n",
      "Epoch 00009: val_loss improved from 0.00610 to 0.00566, saving model to best_model_convlstm_fix.h5\n",
      "100/100 [==============================] - 40s 405ms/step - loss: 0.0019 - accuracy: 1.0000 - val_loss: 0.0057 - val_accuracy: 1.0000\n",
      "Epoch 10/400\n",
      "100/100 [==============================] - ETA: 0s - loss: 0.0017 - accuracy: 1.0000\n",
      "Epoch 00010: val_loss improved from 0.00566 to 0.00482, saving model to best_model_convlstm_fix.h5\n",
      "100/100 [==============================] - 40s 397ms/step - loss: 0.0017 - accuracy: 1.0000 - val_loss: 0.0048 - val_accuracy: 1.0000\n",
      "Epoch 11/400\n",
      "100/100 [==============================] - ETA: 0s - loss: 9.4273e-04 - accuracy: 1.0000\n",
      "Epoch 00011: val_loss did not improve from 0.00482\n",
      "100/100 [==============================] - 40s 399ms/step - loss: 9.4273e-04 - accuracy: 1.0000 - val_loss: 0.0056 - val_accuracy: 1.0000\n",
      "Epoch 12/400\n",
      "100/100 [==============================] - ETA: 0s - loss: 0.0015 - accuracy: 1.0000\n",
      "Epoch 00012: val_loss did not improve from 0.00482\n",
      "100/100 [==============================] - 40s 399ms/step - loss: 0.0015 - accuracy: 1.0000 - val_loss: 0.0100 - val_accuracy: 1.0000\n",
      "Epoch 13/400\n",
      "100/100 [==============================] - ETA: 0s - loss: 6.6438e-04 - accuracy: 1.0000\n",
      "Epoch 00013: val_loss improved from 0.00482 to 0.00437, saving model to best_model_convlstm_fix.h5\n",
      "100/100 [==============================] - 40s 403ms/step - loss: 6.6438e-04 - accuracy: 1.0000 - val_loss: 0.0044 - val_accuracy: 1.0000\n",
      "Epoch 14/400\n",
      "100/100 [==============================] - ETA: 0s - loss: 5.5075e-04 - accuracy: 1.0000\n",
      "Epoch 00014: val_loss did not improve from 0.00437\n",
      "100/100 [==============================] - 40s 400ms/step - loss: 5.5075e-04 - accuracy: 1.0000 - val_loss: 0.0050 - val_accuracy: 1.0000\n",
      "Epoch 15/400\n",
      "100/100 [==============================] - ETA: 0s - loss: 4.8905e-04 - accuracy: 1.0000\n",
      "Epoch 00015: val_loss improved from 0.00437 to 0.00276, saving model to best_model_convlstm_fix.h5\n",
      "100/100 [==============================] - 39s 393ms/step - loss: 4.8905e-04 - accuracy: 1.0000 - val_loss: 0.0028 - val_accuracy: 1.0000\n",
      "Epoch 16/400\n",
      "100/100 [==============================] - ETA: 0s - loss: 3.0592e-04 - accuracy: 1.0000\n",
      "Epoch 00016: val_loss did not improve from 0.00276\n",
      "100/100 [==============================] - 39s 388ms/step - loss: 3.0592e-04 - accuracy: 1.0000 - val_loss: 0.0030 - val_accuracy: 1.0000\n",
      "Epoch 17/400\n",
      "100/100 [==============================] - ETA: 0s - loss: 2.9450e-04 - accuracy: 1.0000\n",
      "Epoch 00017: val_loss did not improve from 0.00276\n",
      "100/100 [==============================] - 39s 395ms/step - loss: 2.9450e-04 - accuracy: 1.0000 - val_loss: 0.0031 - val_accuracy: 1.0000\n",
      "Epoch 18/400\n",
      "100/100 [==============================] - ETA: 0s - loss: 3.1607e-04 - accuracy: 1.0000\n",
      "Epoch 00018: val_loss did not improve from 0.00276\n",
      "100/100 [==============================] - 40s 398ms/step - loss: 3.1607e-04 - accuracy: 1.0000 - val_loss: 0.0032 - val_accuracy: 1.0000\n",
      "Epoch 19/400\n",
      "100/100 [==============================] - ETA: 0s - loss: 2.6514e-04 - accuracy: 1.0000\n",
      "Epoch 00019: val_loss did not improve from 0.00276\n",
      "100/100 [==============================] - 39s 389ms/step - loss: 2.6514e-04 - accuracy: 1.0000 - val_loss: 0.0038 - val_accuracy: 1.0000\n",
      "Epoch 20/400\n",
      "100/100 [==============================] - ETA: 0s - loss: 2.4779e-04 - accuracy: 1.0000\n",
      "Epoch 00020: val_loss did not improve from 0.00276\n",
      "100/100 [==============================] - 39s 391ms/step - loss: 2.4779e-04 - accuracy: 1.0000 - val_loss: 0.0029 - val_accuracy: 1.0000\n"
     ]
    }
   ],
   "source": [
    "X_train, X_test, y_train, y_test = train_test_split(X, Y, test_size=0.20, shuffle=True, random_state=0)\n",
    "filepath = 'best_model_convlstm_fix.h5'\n",
    "model = Sequential()\n",
    "model.add(ConvLSTM2D(filters = 64, kernel_size = (3, 3), padding='same',return_sequences = True, data_format = \"channels_last\", \n",
    "                     input_shape = (seq_len, img_width, img_height, 3)))\n",
    "# model.add(ConvLSTM2D(filters = 64, kernel_size = (3, 3), padding='same',return_sequences = True, data_format = \"channels_last\", \n",
    "#                      input_shape = (NBFRAME,64,64, 3)))\n",
    "model.add(Dropout(0.5))\n",
    "model.add(ConvLSTM2D(filters = 32, kernel_size = (3, 3), return_sequences = False, data_format = \"channels_last\", ))\n",
    "model.add(Dropout(0.2))\n",
    "model.add(Flatten())\n",
    "model.add(Dense(128, activation=\"relu\"))\n",
    "model.add(Dropout(0.2))\n",
    "model.add(Dense(3, activation = \"softmax\"))\n",
    " \n",
    "model.summary()\n",
    " \n",
    "opt = optimizers.Adam(lr=0.00001)\n",
    "model.compile(loss='categorical_crossentropy', optimizer=opt, metrics=[\"accuracy\"])\n",
    " \n",
    "checkpoint = ModelCheckpoint(filepath=filepath,\n",
    "                             monitor='val_loss',\n",
    "                             verbose=1,\n",
    "                             save_best_only=True)\n",
    "stop = EarlyStopping(monitor='val_loss', patience =5,\n",
    "                      verbose=0, mode='auto', baseline=None, \n",
    "                      restore_best_weights=False)\n",
    "callbacks = [checkpoint,stop]\n",
    " \n",
    "history = model.fit(x = X_train, y = y_train, epochs=400, batch_size = 1 , shuffle=True, validation_data=(X_test,y_test), callbacks=callbacks)\n",
    "# history = model.fit_generator(\n",
    "#     train,\n",
    "#     validation_data=valid,\n",
    "#     verbose=1,\n",
    "#     epochs=400,\n",
    "#     callbacks=callbacks\n",
    "# )"
   ]
  },
  {
   "cell_type": "code",
   "execution_count": 6,
   "metadata": {},
   "outputs": [
    {
     "ename": "NameError",
     "evalue": "name 'X_test' is not defined",
     "output_type": "error",
     "traceback": [
      "\u001b[1;31m---------------------------------------------------------------------------\u001b[0m",
      "\u001b[1;31mNameError\u001b[0m                                 Traceback (most recent call last)",
      "\u001b[1;32m<ipython-input-6-0e2c6e3925de>\u001b[0m in \u001b[0;36m<module>\u001b[1;34m\u001b[0m\n\u001b[1;32m----> 1\u001b[1;33m \u001b[0my_pred\u001b[0m \u001b[1;33m=\u001b[0m \u001b[0mmodel\u001b[0m\u001b[1;33m.\u001b[0m\u001b[0mpredict\u001b[0m\u001b[1;33m(\u001b[0m\u001b[0mX_test\u001b[0m\u001b[1;33m)\u001b[0m\u001b[1;33m\u001b[0m\u001b[0m\n\u001b[0m\u001b[0;32m      2\u001b[0m \u001b[0my_pred\u001b[0m \u001b[1;33m=\u001b[0m \u001b[0mnp\u001b[0m\u001b[1;33m.\u001b[0m\u001b[0margmax\u001b[0m\u001b[1;33m(\u001b[0m\u001b[0my_pred\u001b[0m\u001b[1;33m,\u001b[0m \u001b[0maxis\u001b[0m \u001b[1;33m=\u001b[0m \u001b[1;36m1\u001b[0m\u001b[1;33m)\u001b[0m\u001b[1;33m\u001b[0m\u001b[0m\n\u001b[0;32m      3\u001b[0m \u001b[1;31m# y_test = np.argmax(y_test, axis = 1)\u001b[0m\u001b[1;33m\u001b[0m\u001b[1;33m\u001b[0m\u001b[0m\n\u001b[0;32m      4\u001b[0m \u001b[1;33m\u001b[0m\u001b[0m\n\u001b[0;32m      5\u001b[0m \u001b[0mprint\u001b[0m\u001b[1;33m(\u001b[0m\u001b[0mclassification_report\u001b[0m\u001b[1;33m(\u001b[0m\u001b[0my_test\u001b[0m\u001b[1;33m,\u001b[0m \u001b[0my_pred\u001b[0m\u001b[1;33m)\u001b[0m\u001b[1;33m)\u001b[0m\u001b[1;33m\u001b[0m\u001b[0m\n",
      "\u001b[1;31mNameError\u001b[0m: name 'X_test' is not defined"
     ]
    }
   ],
   "source": [
    "y_pred = model.predict(X_test)\n",
    "y_pred = np.argmax(y_pred, axis = 1)\n",
    "# y_test = np.argmax(y_test, axis = 1)\n",
    " \n",
    "print(classification_report(y_test, y_pred))"
   ]
  },
  {
   "cell_type": "code",
   "execution_count": 6,
   "metadata": {},
   "outputs": [
    {
     "data": {
      "image/png": "[encoded data removed]",
      "text/plain": [
       "<Figure size 432x288 with 1 Axes>"
      ]
     },
     "metadata": {
      "needs_background": "light"
     },
     "output_type": "display_data"
    },
    {
     "data": {
      "image/png": "[encoded data removed]",
      "text/plain": [
       "<Figure size 432x288 with 1 Axes>"
      ]
     },
     "metadata": {
      "needs_background": "light"
     },
     "output_type": "display_data"
    }
   ],
   "source": [
    "# use LSTM model to predict\n",
    "\n",
    "# import seaborn as sns\n",
    "import matplotlib.pyplot as plt\n",
    "# y_pred_ohe = model.predict(X_test)\n",
    "# y_pred_labels = np.argmax(y_pred_ohe, axis=1)\n",
    "# y_true_labels = y_test\n",
    "# confusion_matrix = metrics.confusion_matrix(y_true=y_true_labels, y_pred=y_pred_labels)\n",
    "# print(y_true_labels)\n",
    "\n",
    "# plt.figure(figsize=(8, 6))\n",
    "# sns.set(style='whitegrid', palette='muted', font_scale=1.5)\n",
    "# sns.heatmap(confusion_matrix, xticklabels=classes, yticklabels=classes, annot=True, fmt=\"d\");\n",
    "# plt.title(\"Confusion matrix\")\n",
    "# plt.ylabel('True label')\n",
    "# plt.xlabel('Predicted label')\n",
    "# plt.show();\n",
    "\n",
    "plt.plot(history.history['accuracy'])\n",
    "plt.plot(history.history['val_accuracy'])\n",
    "plt.title('model accuracy')\n",
    "plt.ylabel('accuracy')\n",
    "plt.xlabel('epoch')\n",
    "plt.legend(['train', 'val'], loc='best')\n",
    "plt.show()\n",
    "\n",
    "plt.plot(history.history['loss'])\n",
    "plt.plot(history.history['val_loss'])\n",
    "plt.title('model loss')\n",
    "plt.ylabel('loss')\n",
    "plt.xlabel('epoch')\n",
    "plt.legend(['train', 'val'], loc='best')\n",
    "plt.show()"
   ]
  },
  {
   "cell_type": "code",
   "execution_count": null,
   "metadata": {},
   "outputs": [],
   "source": [
    "model.save(\"model_har.h5\")"
   ]
  },
  {
   "cell_type": "code",
   "execution_count": null,
   "metadata": {},
   "outputs": [],
   "source": []
  }
 ],
 "metadata": {
  "kernelspec": {
   "display_name": "Python 3",
   "language": "python",
   "name": "python3"
  },
  "language_info": {
   "codemirror_mode": {
    "name": "ipython",
    "version": 3
   },
   "file_extension": ".py",
   "mimetype": "text/x-python",
   "name": "python",
   "nbconvert_exporter": "python",
   "pygments_lexer": "ipython3",
   "version": "3.7.0"
  }
 },
 "nbformat": 4,
 "nbformat_minor": 4
}
