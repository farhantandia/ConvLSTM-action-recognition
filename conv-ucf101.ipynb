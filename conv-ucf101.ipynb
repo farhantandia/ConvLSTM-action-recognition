{
 "cells": [
  {
   "cell_type": "code",
   "execution_count": 1,
   "metadata": {},
   "outputs": [],
   "source": [
    "import tensorflow\n",
    "from tensorflow.keras.preprocessing.image import ImageDataGenerator\n",
    "from tensorflow.keras import optimizers\n",
    "from tensorflow.keras.models import Sequential, Model \n",
    "from tensorflow.keras.layers import *\n",
    "from tensorflow.keras.callbacks import ModelCheckpoint, LearningRateScheduler, TensorBoard, EarlyStopping\n",
    "import os\n",
    "import cv2\n",
    "import numpy as np\n",
    "from sklearn.model_selection import train_test_split\n",
    "from sklearn import metrics \n",
    "from sklearn.metrics import accuracy_score\n",
    "from sklearn.metrics import precision_score\n",
    "from sklearn.metrics import recall_score\n",
    "from sklearn.metrics import f1_score\n",
    "from sklearn.metrics import cohen_kappa_score\n",
    "from sklearn.metrics import roc_auc_score\n",
    "from sklearn.metrics import multilabel_confusion_matrix\n",
    "from sklearn.metrics import classification_report\n",
    "from keras_video import VideoFrameGenerator\n",
    "import glob"
   ]
  },
  {
   "cell_type": "code",
   "execution_count": 2,
   "metadata": {},
   "outputs": [
    {
     "data": {
      "text/plain": [
       "'2.3.0'"
      ]
     },
     "execution_count": 2,
     "metadata": {},
     "output_type": "execute_result"
    }
   ],
   "source": [
    "import tensorflow as tf\n",
    "tf.__version__"
   ]
  },
  {
   "cell_type": "code",
   "execution_count": 3,
   "metadata": {
    "scrolled": true
   },
   "outputs": [
    {
     "data": {
      "text/plain": [
       "['ApplyEyeMakeup',\n",
       " 'ApplyLipstick',\n",
       " 'Archery',\n",
       " 'BabyCrawling',\n",
       " 'BalanceBeam',\n",
       " 'BandMarching',\n",
       " 'BaseballPitch',\n",
       " 'Basketball',\n",
       " 'BasketballDunk',\n",
       " 'BenchPress',\n",
       " 'Biking',\n",
       " 'Billiards',\n",
       " 'BlowDryHair',\n",
       " 'BlowingCandles',\n",
       " 'BodyWeightSquats',\n",
       " 'Bowling',\n",
       " 'BoxingPunchingBag',\n",
       " 'BoxingSpeedBag',\n",
       " 'BreastStroke',\n",
       " 'BrushingTeeth',\n",
       " 'CleanAndJerk',\n",
       " 'CliffDiving',\n",
       " 'CricketBowling',\n",
       " 'CricketShot',\n",
       " 'CuttingInKitchen',\n",
       " 'Diving',\n",
       " 'Drumming',\n",
       " 'Fencing',\n",
       " 'FieldHockeyPenalty',\n",
       " 'FloorGymnastics',\n",
       " 'FrisbeeCatch',\n",
       " 'FrontCrawl',\n",
       " 'GolfSwing',\n",
       " 'Haircut',\n",
       " 'HammerThrow',\n",
       " 'Hammering',\n",
       " 'HandstandPushups',\n",
       " 'HandstandWalking',\n",
       " 'HeadMassage',\n",
       " 'HighJump',\n",
       " 'HorseRace',\n",
       " 'HorseRiding',\n",
       " 'HulaHoop',\n",
       " 'IceDancing',\n",
       " 'JavelinThrow',\n",
       " 'JugglingBalls',\n",
       " 'JumpRope',\n",
       " 'JumpingJack',\n",
       " 'Kayaking',\n",
       " 'Knitting',\n",
       " 'LongJump',\n",
       " 'Lunges',\n",
       " 'MilitaryParade',\n",
       " 'Mixing',\n",
       " 'MoppingFloor',\n",
       " 'Nunchucks',\n",
       " 'ParallelBars',\n",
       " 'PizzaTossing',\n",
       " 'PlayingCello',\n",
       " 'PlayingDaf',\n",
       " 'PlayingDhol',\n",
       " 'PlayingFlute',\n",
       " 'PlayingGuitar',\n",
       " 'PlayingPiano',\n",
       " 'PlayingSitar',\n",
       " 'PlayingTabla',\n",
       " 'PlayingViolin',\n",
       " 'PoleVault',\n",
       " 'PommelHorse',\n",
       " 'PullUps',\n",
       " 'Punch',\n",
       " 'PushUps',\n",
       " 'Rafting',\n",
       " 'RockClimbingIndoor',\n",
       " 'RopeClimbing',\n",
       " 'Rowing',\n",
       " 'SalsaSpin',\n",
       " 'ShavingBeard',\n",
       " 'Shotput',\n",
       " 'SkateBoarding',\n",
       " 'Skiing',\n",
       " 'Skijet',\n",
       " 'SkyDiving',\n",
       " 'SoccerJuggling',\n",
       " 'SoccerPenalty',\n",
       " 'StillRings',\n",
       " 'SumoWrestling',\n",
       " 'Surfing',\n",
       " 'Swing',\n",
       " 'TableTennisShot',\n",
       " 'TaiChi',\n",
       " 'TennisSwing',\n",
       " 'ThrowDiscus',\n",
       " 'TrampolineJumping',\n",
       " 'Typing',\n",
       " 'UnevenBars',\n",
       " 'VolleyballSpiking',\n",
       " 'WalkingWithDog',\n",
       " 'WallPushups',\n",
       " 'WritingOnBoard',\n",
       " 'YoYo']"
      ]
     },
     "execution_count": 3,
     "metadata": {},
     "output_type": "execute_result"
    }
   ],
   "source": [
    "\n",
    "# classes = [\"Backstroke\", \"Breaststroke\", \"Freestyle\"]\n",
    "with open('ucf101_data/classInd.txt') as f:\n",
    "    classes = f.readlines()\n",
    "# you may also want to remove whitespace characters like `\\n` at the end of each line\n",
    "classes = [x.strip() for x in classes] \n",
    "classes.sort()\n",
    "classes"
   ]
  },
  {
   "cell_type": "code",
   "execution_count": 15,
   "metadata": {},
   "outputs": [],
   "source": [
    "\n",
    "img_height , img_width = 64, 64"
   ]
  },
  {
   "cell_type": "code",
   "execution_count": 5,
   "metadata": {},
   "outputs": [
    {
     "name": "stdout",
     "output_type": "stream",
     "text": [
      "Total data: 101 classes for 9537 files for train\n"
     ]
    }
   ],
   "source": [
    "# some global params\n",
    "SIZE = (img_height, img_width)\n",
    "CHANNELS = 3\n",
    "NBFRAME =20\n",
    "BS = 9537\n",
    "# pattern to get videos and classes\n",
    "glob_pattern='ucf101_data/train/{classname}/*.avi'\n",
    "# for data augmentation\n",
    "data_aug = ImageDataGenerator(\n",
    "#     zoom_range=1.5,\n",
    "#     horizontal_flip=True,\n",
    "#     rotation_range=8,\n",
    "#     width_shift_range=.2,\n",
    "#     height_shift_range=.2\n",
    ")\n",
    "# Create video frame generator\n",
    "\n",
    "train = VideoFrameGenerator(\n",
    "    classes=classes, \n",
    "    glob_pattern=glob_pattern,\n",
    "    nb_frames=NBFRAME,\n",
    "#     split_val=0.25, \n",
    "#     shuffle=True,\n",
    "    batch_size=BS,\n",
    "    target_shape=SIZE,\n",
    "    nb_channel=CHANNELS,\n",
    "#     transformation=data_aug,\n",
    "    use_frame_cache=True)"
   ]
  },
  {
   "cell_type": "code",
   "execution_count": 42,
   "metadata": {},
   "outputs": [
    {
     "name": "stdout",
     "output_type": "stream",
     "text": [
      "Total data: 101 classes for 3783 files for train\n"
     ]
    }
   ],
   "source": [
    "\n",
    "glob_test='ucf101_data/test/{classname}/*.avi'\n",
    "valid = VideoFrameGenerator(\n",
    "    classes=classes, \n",
    "    glob_pattern=glob_test,\n",
    "    nb_frames=NBFRAME,\n",
    "#     split=.2, \n",
    "    shuffle=True,\n",
    "    batch_size=3783,\n",
    "    target_shape=SIZE,\n",
    "    nb_channel=CHANNELS,\n",
    "#     transformation=data_aug,\n",
    "    use_frame_cache=True)"
   ]
  },
  {
   "cell_type": "code",
   "execution_count": 43,
   "metadata": {},
   "outputs": [
    {
     "name": "stdout",
     "output_type": "stream",
     "text": [
      "Total data: 101 classes for 0 files for validation\n"
     ]
    }
   ],
   "source": [
    "valid = train.get_validation_generator()"
   ]
  },
  {
   "cell_type": "code",
   "execution_count": 11,
   "metadata": {},
   "outputs": [
    {
     "data": {
      "text/plain": [
       "<keras_video.generator.VideoFrameGenerator at 0x24fc8e834a8>"
      ]
     },
     "execution_count": 11,
     "metadata": {},
     "output_type": "execute_result"
    }
   ],
   "source": [
    "train"
   ]
  },
  {
   "cell_type": "code",
   "execution_count": 6,
   "metadata": {
    "scrolled": true
   },
   "outputs": [],
   "source": [
    "import time\n",
    "start_time = time.time()\n",
    "x_train, y_train = next(train)\n",
    "# x_test, y_test = next(valid)\n",
    "\n",
    "elapsed_time = time.time() - start_time"
   ]
  },
  {
   "cell_type": "code",
   "execution_count": 7,
   "metadata": {},
   "outputs": [
    {
     "name": "stdout",
     "output_type": "stream",
     "text": [
      "5.051668866475423 minutes\n"
     ]
    }
   ],
   "source": [
    "\n",
    "print(str(elapsed_time/60)+' minutes')"
   ]
  },
  {
   "cell_type": "code",
   "execution_count": 14,
   "metadata": {},
   "outputs": [
    {
     "data": {
      "text/plain": [
       "(9537, 20, 64, 64, 3)"
      ]
     },
     "execution_count": 14,
     "metadata": {},
     "output_type": "execute_result"
    }
   ],
   "source": [
    "x_train.shape"
   ]
  },
  {
   "cell_type": "code",
   "execution_count": null,
   "metadata": {},
   "outputs": [],
   "source": [
    "len(classes)"
   ]
  },
  {
   "cell_type": "code",
   "execution_count": null,
   "metadata": {},
   "outputs": [],
   "source": []
  },
  {
   "cell_type": "code",
   "execution_count": null,
   "metadata": {},
   "outputs": [],
   "source": [
    "# data_dir = \"ucf101_data/train\"\n",
    "# img_height , img_width = 200, 180\n",
    "# seq_len = 60\n",
    " \n",
    "# #  Creating frames from videos\n",
    "# def frames_extraction(video_path):\n",
    "#     frames_list = []\n",
    "     \n",
    "#     vidObj = cv2.VideoCapture(video_path)\n",
    "#     # Used as counter variable \n",
    "#     count = 1\n",
    " \n",
    "#     while count <= seq_len: \n",
    "         \n",
    "#         success, image = vidObj.read() \n",
    "#         if success:\n",
    "#             image = cv2.resize(image, (img_height, img_width))\n",
    "#             frames_list.append(image)\n",
    "#             count += 1\n",
    "#         else:\n",
    "#             print(\"Defected frame\")\n",
    "#             break\n",
    " \n",
    "            \n",
    "#     return frames_list\n",
    " \n",
    "# def create_data(input_dir):\n",
    "#     X = []\n",
    "#     Y = []\n",
    "     \n",
    "#     classes_list = os.listdir(input_dir)\n",
    "     \n",
    "#     for c in classes_list:\n",
    "#         print(c)\n",
    "#         files_list = os.listdir(os.path.join(input_dir, c))\n",
    "#         for f in files_list:\n",
    "#             frames = frames_extraction(os.path.join(os.path.join(input_dir, c), f))\n",
    "#             if len(frames) == seq_len:\n",
    "#                 X.append(frames)\n",
    "             \n",
    "#                 y = [0]*len(classes)\n",
    "#                 y[classes.index(c)] = 1\n",
    "#                 Y.append(y)\n",
    "     \n",
    "#     X = np.asarray(X)\n",
    "#     Y = np.asarray(Y)\n",
    "#     return X, Y\n",
    " \n",
    "# X, Y = create_data(data_dir)"
   ]
  },
  {
   "cell_type": "code",
   "execution_count": null,
   "metadata": {},
   "outputs": [],
   "source": [
    "X_train, X_test, y_train, y_test = train_test_split(x_train, y_train, test_size=0.25, shuffle=True, random_state=0)"
   ]
  },
  {
   "cell_type": "code",
   "execution_count": 17,
   "metadata": {
    "scrolled": false
   },
   "outputs": [
    {
     "name": "stdout",
     "output_type": "stream",
     "text": [
      "Model: \"sequential_1\"\n",
      "_________________________________________________________________\n",
      "Layer (type)                 Output Shape              Param #   \n",
      "=================================================================\n",
      "conv_lst_m2d_2 (ConvLSTM2D)  (None, 20, 62, 62, 32)    40448     \n",
      "_________________________________________________________________\n",
      "conv_lst_m2d_3 (ConvLSTM2D)  (None, 20, 60, 60, 32)    73856     \n",
      "_________________________________________________________________\n",
      "batch_normalization (BatchNo (None, 20, 60, 60, 32)    128       \n",
      "_________________________________________________________________\n",
      "dropout_4 (Dropout)          (None, 20, 60, 60, 32)    0         \n",
      "_________________________________________________________________\n",
      "conv_lst_m2d_4 (ConvLSTM2D)  (None, 20, 58, 58, 32)    73856     \n",
      "_________________________________________________________________\n",
      "conv_lst_m2d_5 (ConvLSTM2D)  (None, 20, 56, 56, 32)    73856     \n",
      "_________________________________________________________________\n",
      "batch_normalization_1 (Batch (None, 20, 56, 56, 32)    128       \n",
      "_________________________________________________________________\n",
      "max_pooling3d (MaxPooling3D) (None, 20, 28, 28, 32)    0         \n",
      "_________________________________________________________________\n",
      "dropout_5 (Dropout)          (None, 20, 28, 28, 32)    0         \n",
      "_________________________________________________________________\n",
      "conv_lst_m2d_6 (ConvLSTM2D)  (None, 20, 26, 26, 32)    73856     \n",
      "_________________________________________________________________\n",
      "conv_lst_m2d_7 (ConvLSTM2D)  (None, 20, 24, 24, 32)    73856     \n",
      "_________________________________________________________________\n",
      "batch_normalization_2 (Batch (None, 20, 24, 24, 32)    128       \n",
      "_________________________________________________________________\n",
      "dropout_6 (Dropout)          (None, 20, 24, 24, 32)    0         \n",
      "_________________________________________________________________\n",
      "conv_lst_m2d_8 (ConvLSTM2D)  (None, 20, 22, 22, 32)    73856     \n",
      "_________________________________________________________________\n",
      "conv_lst_m2d_9 (ConvLSTM2D)  (None, 20, 20, 32)        73856     \n",
      "_________________________________________________________________\n",
      "batch_normalization_3 (Batch (None, 20, 20, 32)        128       \n",
      "_________________________________________________________________\n",
      "average_pooling2d (AveragePo (None, 10, 10, 32)        0         \n",
      "_________________________________________________________________\n",
      "dropout_7 (Dropout)          (None, 10, 10, 32)        0         \n",
      "_________________________________________________________________\n",
      "flatten_1 (Flatten)          (None, 3200)              0         \n",
      "_________________________________________________________________\n",
      "dense_3 (Dense)              (None, 256)               819456    \n",
      "_________________________________________________________________\n",
      "dropout_8 (Dropout)          (None, 256)               0         \n",
      "_________________________________________________________________\n",
      "dense_4 (Dense)              (None, 128)               32896     \n",
      "_________________________________________________________________\n",
      "dropout_9 (Dropout)          (None, 128)               0         \n",
      "_________________________________________________________________\n",
      "dense_5 (Dense)              (None, 101)               13029     \n",
      "=================================================================\n",
      "Total params: 1,423,333\n",
      "Trainable params: 1,423,077\n",
      "Non-trainable params: 256\n",
      "_________________________________________________________________\n",
      "Epoch 1/400\n",
      "3576/3576 [==============================] - ETA: 0s - loss: 4.6510 - accuracy: 0.0196\n",
      "Epoch 00001: val_loss improved from inf to 4.47284, saving model to best_model_convlstm_fix.h5\n",
      "3576/3576 [==============================] - 1215s 340ms/step - loss: 4.6510 - accuracy: 0.0196 - val_loss: 4.4728 - val_accuracy: 0.0428\n",
      "Epoch 2/400\n",
      "3576/3576 [==============================] - ETA: 0s - loss: 4.3393 - accuracy: 0.0638\n",
      "Epoch 00002: val_loss improved from 4.47284 to 4.01022, saving model to best_model_convlstm_fix.h5\n",
      "3576/3576 [==============================] - 1243s 347ms/step - loss: 4.3393 - accuracy: 0.0638 - val_loss: 4.0102 - val_accuracy: 0.1178\n",
      "Epoch 3/400\n",
      "3576/3576 [==============================] - ETA: 0s - loss: 3.9521 - accuracy: 0.1289\n",
      "Epoch 00003: val_loss improved from 4.01022 to 3.50400, saving model to best_model_convlstm_fix.h5\n",
      "3576/3576 [==============================] - 1239s 346ms/step - loss: 3.9521 - accuracy: 0.1289 - val_loss: 3.5040 - val_accuracy: 0.2004\n",
      "Epoch 4/400\n",
      "3576/3576 [==============================] - ETA: 0s - loss: 3.5274 - accuracy: 0.1999\n",
      "Epoch 00004: val_loss improved from 3.50400 to 3.20005, saving model to best_model_convlstm_fix.h5\n",
      "3576/3576 [==============================] - 1221s 342ms/step - loss: 3.5274 - accuracy: 0.1999 - val_loss: 3.2000 - val_accuracy: 0.2755\n",
      "Epoch 5/400\n",
      "3576/3576 [==============================] - ETA: 0s - loss: 3.1474 - accuracy: 0.2700\n",
      "Epoch 00005: val_loss improved from 3.20005 to 2.93258, saving model to best_model_convlstm_fix.h5\n",
      "3576/3576 [==============================] - 1237s 346ms/step - loss: 3.1474 - accuracy: 0.2700 - val_loss: 2.9326 - val_accuracy: 0.3249\n",
      "Epoch 6/400\n",
      "3576/3576 [==============================] - ETA: 0s - loss: 2.7907 - accuracy: 0.3375\n",
      "Epoch 00006: val_loss improved from 2.93258 to 2.73616, saving model to best_model_convlstm_fix.h5\n",
      "3576/3576 [==============================] - 1236s 346ms/step - loss: 2.7907 - accuracy: 0.3375 - val_loss: 2.7362 - val_accuracy: 0.3757\n",
      "Epoch 7/400\n",
      "3576/3576 [==============================] - ETA: 0s - loss: 2.4767 - accuracy: 0.4013\n",
      "Epoch 00007: val_loss improved from 2.73616 to 2.37268, saving model to best_model_convlstm_fix.h5\n",
      "3576/3576 [==============================] - 1221s 342ms/step - loss: 2.4767 - accuracy: 0.4013 - val_loss: 2.3727 - val_accuracy: 0.4440\n",
      "Epoch 8/400\n",
      "3576/3576 [==============================] - ETA: 0s - loss: 2.2011 - accuracy: 0.4596\n",
      "Epoch 00008: val_loss improved from 2.37268 to 2.26474, saving model to best_model_convlstm_fix.h5\n",
      "3576/3576 [==============================] - 1239s 346ms/step - loss: 2.2011 - accuracy: 0.4596 - val_loss: 2.2647 - val_accuracy: 0.4688\n",
      "Epoch 9/400\n",
      "3576/3576 [==============================] - ETA: 0s - loss: 1.9668 - accuracy: 0.5105\n",
      "Epoch 00009: val_loss improved from 2.26474 to 2.08053, saving model to best_model_convlstm_fix.h5\n",
      "3576/3576 [==============================] - 1238s 346ms/step - loss: 1.9668 - accuracy: 0.5105 - val_loss: 2.0805 - val_accuracy: 0.4952\n",
      "Epoch 10/400\n",
      "3576/3576 [==============================] - ETA: 0s - loss: 1.7829 - accuracy: 0.5457\n",
      "Epoch 00010: val_loss did not improve from 2.08053\n",
      "3576/3576 [==============================] - 1233s 345ms/step - loss: 1.7829 - accuracy: 0.5457 - val_loss: 2.1445 - val_accuracy: 0.4943\n",
      "Epoch 11/400\n",
      "3576/3576 [==============================] - ETA: 0s - loss: 1.5976 - accuracy: 0.5881\n",
      "Epoch 00011: val_loss improved from 2.08053 to 2.00851, saving model to best_model_convlstm_fix.h5\n",
      "3576/3576 [==============================] - 1235s 345ms/step - loss: 1.5976 - accuracy: 0.5881 - val_loss: 2.0085 - val_accuracy: 0.5254\n",
      "Epoch 12/400\n",
      "3576/3576 [==============================] - ETA: 0s - loss: 1.4103 - accuracy: 0.6267\n",
      "Epoch 00012: val_loss improved from 2.00851 to 1.89651, saving model to best_model_convlstm_fix.h5\n",
      "3576/3576 [==============================] - 1210s 338ms/step - loss: 1.4103 - accuracy: 0.6267 - val_loss: 1.8965 - val_accuracy: 0.5589\n",
      "Epoch 13/400\n",
      "3576/3576 [==============================] - ETA: 0s - loss: 1.2876 - accuracy: 0.6607\n",
      "Epoch 00013: val_loss improved from 1.89651 to 1.73125, saving model to best_model_convlstm_fix.h5\n",
      "3576/3576 [==============================] - 1206s 337ms/step - loss: 1.2876 - accuracy: 0.6607 - val_loss: 1.7313 - val_accuracy: 0.5811\n",
      "Epoch 14/400\n",
      "3576/3576 [==============================] - ETA: 0s - loss: 1.1465 - accuracy: 0.6966\n",
      "Epoch 00014: val_loss improved from 1.73125 to 1.68302, saving model to best_model_convlstm_fix.h5\n",
      "3576/3576 [==============================] - 1210s 338ms/step - loss: 1.1465 - accuracy: 0.6966 - val_loss: 1.6830 - val_accuracy: 0.5987\n",
      "Epoch 15/400\n"
     ]
    },
    {
     "name": "stdout",
     "output_type": "stream",
     "text": [
      "3576/3576 [==============================] - ETA: 0s - loss: 1.0384 - accuracy: 0.7254\n",
      "Epoch 00015: val_loss improved from 1.68302 to 1.62217, saving model to best_model_convlstm_fix.h5\n",
      "3576/3576 [==============================] - 1217s 340ms/step - loss: 1.0384 - accuracy: 0.7254 - val_loss: 1.6222 - val_accuracy: 0.6029\n",
      "Epoch 16/400\n",
      "3576/3576 [==============================] - ETA: 0s - loss: 0.9412 - accuracy: 0.7418\n",
      "Epoch 00016: val_loss improved from 1.62217 to 1.57823, saving model to best_model_convlstm_fix.h5\n",
      "3576/3576 [==============================] - 1234s 345ms/step - loss: 0.9412 - accuracy: 0.7418 - val_loss: 1.5782 - val_accuracy: 0.6239\n",
      "Epoch 17/400\n",
      "3576/3576 [==============================] - ETA: 0s - loss: 0.8128 - accuracy: 0.7763\n",
      "Epoch 00017: val_loss did not improve from 1.57823\n",
      "3576/3576 [==============================] - 1239s 347ms/step - loss: 0.8128 - accuracy: 0.7763 - val_loss: 1.5979 - val_accuracy: 0.6147\n",
      "Epoch 18/400\n",
      "3576/3576 [==============================] - ETA: 0s - loss: 0.7463 - accuracy: 0.7896\n",
      "Epoch 00018: val_loss improved from 1.57823 to 1.52368, saving model to best_model_convlstm_fix.h5\n",
      "3576/3576 [==============================] - 1219s 341ms/step - loss: 0.7463 - accuracy: 0.7896 - val_loss: 1.5237 - val_accuracy: 0.6352\n",
      "Epoch 19/400\n",
      "3576/3576 [==============================] - ETA: 0s - loss: 0.6795 - accuracy: 0.8098\n",
      "Epoch 00019: val_loss did not improve from 1.52368\n",
      "3576/3576 [==============================] - 1235s 345ms/step - loss: 0.6795 - accuracy: 0.8098 - val_loss: 1.6492 - val_accuracy: 0.6109\n",
      "Epoch 20/400\n",
      "3576/3576 [==============================] - ETA: 0s - loss: 0.6119 - accuracy: 0.8237\n",
      "Epoch 00020: val_loss did not improve from 1.52368\n",
      "3576/3576 [==============================] - 1232s 345ms/step - loss: 0.6119 - accuracy: 0.8237 - val_loss: 1.5336 - val_accuracy: 0.6423\n",
      "Epoch 21/400\n",
      "3576/3576 [==============================] - ETA: 0s - loss: 0.5332 - accuracy: 0.8494\n",
      "Epoch 00021: val_loss did not improve from 1.52368\n",
      "3576/3576 [==============================] - 1249s 349ms/step - loss: 0.5332 - accuracy: 0.8494 - val_loss: 1.5672 - val_accuracy: 0.6407\n",
      "Epoch 22/400\n",
      "3576/3576 [==============================] - ETA: 0s - loss: 0.5161 - accuracy: 0.8557\n",
      "Epoch 00022: val_loss did not improve from 1.52368\n",
      "3576/3576 [==============================] - 1224s 342ms/step - loss: 0.5161 - accuracy: 0.8557 - val_loss: 1.5396 - val_accuracy: 0.6382\n",
      "Epoch 23/400\n",
      "3576/3576 [==============================] - ETA: 0s - loss: 0.4595 - accuracy: 0.8684\n",
      "Epoch 00023: val_loss did not improve from 1.52368\n",
      "3576/3576 [==============================] - 1231s 344ms/step - loss: 0.4595 - accuracy: 0.8684 - val_loss: 1.6029 - val_accuracy: 0.6377\n"
     ]
    }
   ],
   "source": [
    "\n",
    "filepath = 'best_model_convlstm_fix.h5'\n",
    "'''\n",
    "model = Sequential()\n",
    "model.add(ConvLSTM2D(filters = 64, kernel_size = (5, 5), padding='same',return_sequences = True, data_format = \"channels_last\", \n",
    "                     input_shape = (NBFRAME, img_width, img_height, 3),kernel_regularizer=tf.keras.regularizers.l2(0.0001)))\n",
    "# model.add(ConvLSTM2D(filters = 64, kernel_size = (3, 3), padding='same',return_sequences = True, data_format = \"channels_last\", \n",
    "#                      input_shape = (NBFRAME,64,64, 3)))\n",
    "model.add(Dropout(0.5))\n",
    "model.add(ConvLSTM2D(filters = 32, kernel_size = (5, 5), return_sequences = False, data_format = \"channels_last\",kernel_regularizer=tf.keras.regularizers.l2(0.0001)))\n",
    "model.add(Dropout(0.2))\n",
    "model.add(Flatten())\n",
    "model.add(Dense(512, activation=\"relu\"))\n",
    "model.add(Dropout(0.2))\n",
    "model.add(Dense(256, activation=\"relu\"))\n",
    "model.add(Dropout(0.2))\n",
    "model.add(Dense(len(classes), activation = \"softmax\"))\n",
    " \n",
    "model.summary()\n",
    "'''\n",
    "model = Sequential()\n",
    "# input_shape: (time_steps, map_height, map_width, channels)\n",
    "model.add(ConvLSTM2D(filters = 32, kernel_size = (3, 3),  input_shape = (NBFRAME, img_width, img_height, 3), return_sequences = True))\n",
    "model.add(ConvLSTM2D(filters = 32, kernel_size = (3, 3), return_sequences = True))\n",
    "model.add(BatchNormalization())\n",
    "#model.add(LeakyReLU(alpha=0.2))\n",
    "model.add(Dropout(0.2))\n",
    "\n",
    "\n",
    "model.add(ConvLSTM2D(filters = 32, kernel_size = (3, 3), return_sequences = True))\n",
    "model.add(ConvLSTM2D(filters = 32, kernel_size = (3, 3), return_sequences = True))\n",
    "model.add(BatchNormalization())\n",
    "#model.add(LeakyReLU(alpha=0.2))\n",
    "model.add(MaxPooling3D((1, 2, 2)))\n",
    "model.add(Dropout(0.2))\n",
    "\n",
    "model.add(ConvLSTM2D(filters = 32, kernel_size = (3, 3), return_sequences = True))\n",
    "model.add(ConvLSTM2D(filters = 32, kernel_size = (3, 3), return_sequences = True))\n",
    "model.add(BatchNormalization())\n",
    "#model.add(LeakyReLU(alpha=0.2))\n",
    "#model.add(AveragePooling3D((1, 2, 2)))\n",
    "model.add(Dropout(0.2))\n",
    "\n",
    "model.add(ConvLSTM2D(filters = 32, kernel_size = (3, 3), return_sequences = True))\n",
    "model.add(ConvLSTM2D(filters = 32, kernel_size = (3, 3), return_sequences = False))\n",
    "model.add(BatchNormalization())\n",
    "#model.add(LeakyReLU(alpha=0.2))\n",
    "model.add(AveragePooling2D((2, 2)))\n",
    "model.add(Dropout(0.2))\n",
    "\n",
    "model.add(Flatten())\n",
    "model.add(Dense(256, activation='relu'))\n",
    "model.add(Dropout(0.2))\n",
    "model.add(Dense(128, activation='relu'))\n",
    "model.add(Dropout(0.2))\n",
    "model.add(Dense(len(classes), activation='softmax'))\n",
    "model.summary()\n",
    "\n",
    "opt = optimizers.Adam(lr=0.00005)\n",
    "model.compile(loss='categorical_crossentropy', optimizer=opt, metrics=[\"accuracy\"])\n",
    " \n",
    "checkpoint = ModelCheckpoint(filepath=filepath,\n",
    "                             monitor='val_loss',\n",
    "                             verbose=1,\n",
    "                             save_best_only=True)\n",
    "stop = EarlyStopping(monitor='val_loss', patience =5,\n",
    "                      verbose=0, mode='auto', baseline=None, \n",
    "                      restore_best_weights=False)\n",
    "callbacks = [checkpoint,stop]\n",
    " \n",
    "history = model.fit(x = X_train, y = y_train, epochs=400, batch_size = 2 , shuffle=True, validation_data=(X_test,y_test), callbacks=callbacks)\n",
    "# history = model.fit_generator(\n",
    "#     train,\n",
    "#     validation_data=valid,\n",
    "#     verbose=1,\n",
    "#     epochs=400, \n",
    "#     callbacks=callbacks\n",
    "# )"
   ]
  },
  {
   "cell_type": "code",
   "execution_count": null,
   "metadata": {},
   "outputs": [],
   "source": [
    "# y_pred = model.predict(X_test)\n",
    "# y_pred = np.argmax(y_pred, axis = 1)\n",
    "# # y_test = np.argmax(y_test, axis = 1)\n",
    " \n",
    "# print(classification_report(y_test, y_pred))"
   ]
  },
  {
   "cell_type": "code",
   "execution_count": 22,
   "metadata": {},
   "outputs": [
    {
     "data": {
      "image/png": "[encoded data removed]",
      "text/plain": [
       "<Figure size 432x288 with 1 Axes>"
      ]
     },
     "metadata": {
      "needs_background": "light"
     },
     "output_type": "display_data"
    },
    {
     "data": {
      "image/png": "[encoded data removed]",
      "text/plain": [
       "<Figure size 432x288 with 1 Axes>"
      ]
     },
     "metadata": {
      "needs_background": "light"
     },
     "output_type": "display_data"
    }
   ],
   "source": [
    "# use LSTM model to predict\n",
    "\n",
    "# import seaborn as sns\n",
    "import matplotlib.pyplot as plt\n",
    "# y_pred_ohe = model.predict(X_test)\n",
    "# y_pred_labels = np.argmax(y_pred_ohe, axis=1)\n",
    "# y_true_labels = y_test\n",
    "# confusion_matrix = metrics.confusion_matrix(y_true=y_true_labels, y_pred=y_pred_labels)\n",
    "# print(y_true_labels)\n",
    "\n",
    "# plt.figure(figsize=(8, 6))\n",
    "# sns.set(style='whitegrid', palette='muted', font_scale=1.5)\n",
    "# sns.heatmap(confusion_matrix, xticklabels=classes, yticklabels=classes, annot=True, fmt=\"d\");\n",
    "# plt.title(\"Confusion matrix\")\n",
    "# plt.ylabel('True label')\n",
    "# plt.xlabel('Predicted label')\n",
    "# plt.show();\n",
    "\n",
    "plt.plot(history.history['accuracy'])\n",
    "plt.plot(history.history['val_accuracy'])\n",
    "plt.title('model accuracy')\n",
    "plt.ylabel('accuracy')\n",
    "plt.xlabel('epoch')\n",
    "plt.legend(['train', 'val'], loc='best')\n",
    "plt.savefig('model-acc.png')\n",
    "plt.show()\n",
    "\n",
    "plt.plot(history.history['loss'])\n",
    "plt.plot(history.history['val_loss'])\n",
    "plt.title('model loss')\n",
    "plt.ylabel('loss')\n",
    "plt.xlabel('epoch')\n",
    "plt.legend(['train', 'val'], loc='best')\n",
    "plt.savefig('model-loss.png')\n",
    "plt.show()"
   ]
  },
  {
   "cell_type": "code",
   "execution_count": null,
   "metadata": {},
   "outputs": [],
   "source": [
    "model.save(\"model_har.h5\")"
   ]
  },
  {
   "cell_type": "code",
   "execution_count": null,
   "metadata": {},
   "outputs": [],
   "source": []
  }
 ],
 "metadata": {
  "kernelspec": {
   "display_name": "Python 3",
   "language": "python",
   "name": "python3"
  },
  "language_info": {
   "codemirror_mode": {
    "name": "ipython",
    "version": 3
   },
   "file_extension": ".py",
   "mimetype": "text/x-python",
   "name": "python",
   "nbconvert_exporter": "python",
   "pygments_lexer": "ipython3",
   "version": "3.7.0"
  }
 },
 "nbformat": 4,
 "nbformat_minor": 4
}
